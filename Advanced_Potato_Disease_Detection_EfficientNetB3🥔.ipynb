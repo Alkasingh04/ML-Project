{
  "metadata": {
    "kernelspec": {
      "language": "python",
      "display_name": "Python 3",
      "name": "python3"
    },
    "language_info": {
      "name": "python",
      "version": "3.10.13",
      "mimetype": "text/x-python",
      "codemirror_mode": {
        "name": "ipython",
        "version": 3
      },
      "pygments_lexer": "ipython3",
      "nbconvert_exporter": "python",
      "file_extension": ".py"
    },
    "kaggle": {
      "accelerator": "gpu",
      "dataSources": [
        {
          "sourceId": 8224503,
          "sourceType": "datasetVersion",
          "datasetId": 4876317
        }
      ],
      "dockerImageVersionId": 30733,
      "isInternetEnabled": true,
      "language": "python",
      "sourceType": "notebook",
      "isGpuEnabled": true
    },
    "colab": {
      "name": "Advanced Potato Disease Detection|EfficientNetB3🥔",
      "provenance": []
    }
  },
  "nbformat_minor": 0,
  "nbformat": 4,
  "cells": [
    {
      "source": [
        "# IMPORTANT: RUN THIS CELL IN ORDER TO IMPORT YOUR KAGGLE DATA SOURCES,\n",
        "# THEN FEEL FREE TO DELETE THIS CELL.\n",
        "# NOTE: THIS NOTEBOOK ENVIRONMENT DIFFERS FROM KAGGLE'S PYTHON\n",
        "# ENVIRONMENT SO THERE MAY BE MISSING LIBRARIES USED BY YOUR\n",
        "# NOTEBOOK.\n",
        "import kagglehub\n",
        "aarishasifkhan_plantvillage_potato_disease_dataset_path = kagglehub.dataset_download('aarishasifkhan/plantvillage-potato-disease-dataset')\n",
        "\n",
        "print('Data source import complete.')\n"
      ],
      "metadata": {
        "id": "6hK-rEAySTPp"
      },
      "cell_type": "code",
      "outputs": [],
      "execution_count": null
    },
    {
      "cell_type": "markdown",
      "source": [
        "# <p style=\"background-color: #54080b; color: gold; font-size: 90%; font-family: 'Lobster', cursive; text-align: center; border-radius: 15px 50px; border: 2px solid gold; display: inline-block; padding: 20px 30px; margin: 0 auto; line-height: 1.5;\">Cutting-Edge Potato Disease Detection: PlantVillage Insights|EfficientNetB3</p>\n"
      ],
      "metadata": {
        "id": "JQpoTwlrSTPr"
      }
    },
    {
      "cell_type": "markdown",
      "source": [
        "![_6adabd85-b7e9-48d6-9f3f-2163a78f6f49 (1).jpg](attachment:201a9ec0-d887-45b4-b6a6-82f4c698f276.jpg)"
      ],
      "metadata": {
        "id": "Xwduyl-iSTPs"
      }
    },
    {
      "cell_type": "markdown",
      "source": [
        "# <p style=\"background-color: #54080b; color: gold; font-size: 90%; font-family: 'Lobster', cursive; text-align: center; border-radius: 15px 50px; border: 2px solid gold; padding: 20px 30px;\">About Dataset</p>"
      ],
      "metadata": {
        "id": "5R5SBk3qSTPs"
      }
    },
    {
      "cell_type": "markdown",
      "source": [
        "* This is the plant village potato disease Dataset\n",
        "* This Dataset is a comprehensive collection of images which is categorized into three distinct classes: early blight, late blight, and healthy.\n",
        "* `Early blight` of potato is caused by the fungus, Alternaria solani, which can cause disease in potato, tomato, other members of the potato family, and some mustards. This disease, also known as target spot, rarely affects young, vigorously growing plants.\n",
        "* `Late blight` caused by the fungus Phytophthora infestans is the most important disease of potato that can result into crop failures in a short period if appropriate control measures are not adopted.\n",
        "* `Healthy potatoes:` They're rich in vitamin C, which is an antioxidant and are life-saving food source in early times because the vitamin C prevented scurvy. Another major nutrient in potatoes is potassium, an electrolyte which aids in the workings of our heart, muscles, and nervous system.\n",
        "* Each class represents a specific condition affecting potato crops\n",
        "* With this rich dataset, we can explore various images of plant diseases."
      ],
      "metadata": {
        "id": "RSiHPQoDSTPs"
      }
    },
    {
      "cell_type": "markdown",
      "source": [
        "# <p style=\"background-color: #54080b; color: gold; font-size: 90%; font-family: 'Lobster', cursive; text-align: center; border-radius: 15px 50px; border: 2px solid gold; padding: 20px 30px;\">Dataset Content</p>"
      ],
      "metadata": {
        "id": "zGpiz-wMSTPt"
      }
    },
    {
      "cell_type": "markdown",
      "source": [
        "* There are Total 2152 number of Images in Dataset\n",
        "* The plant village contains 3 folders such as of Class Potato Early_blight, Potato Late_blight and Potato healthy\n",
        "* The Class Potato Early_blight consists of 1000 number of Images\n",
        "* The Class Potato Late_blight also consists of 1000 number of Images\n",
        "* The Potato Healthy consists of 152 number of Images"
      ],
      "metadata": {
        "id": "MCOdLa4XSTPt"
      }
    },
    {
      "cell_type": "markdown",
      "source": [
        "# <p style=\"background-color: #54080b; color: gold; font-size: 90%; font-family: 'Lobster', cursive; text-align: center; border-radius: 15px 50px; border: 2px solid gold; padding: 20px 30px;\">Aims and Objectives</p>"
      ],
      "metadata": {
        "id": "7vvbfJTKSTPu"
      }
    },
    {
      "cell_type": "markdown",
      "source": [
        "* This is the plant village potato disease Dataset\n",
        "* The Aim to take this Dataset is to explore the plant diseases which belongs to the classes such as the Potato late_blight, Potato Early_blight and also the healthy poato plants\n",
        "* For this I firstly took the overview of the dataset in order to take a look how many number of images in each class has according to this dataset.\n",
        "* Then I display the images of each class in order to take the insights about the dataset.\n",
        "* Then I load and Finetune EfficientNetB3 and evlauate the results\n",
        "* Then I Generate the predictions based on that model"
      ],
      "metadata": {
        "id": "4O2WHbQYSTPu"
      }
    },
    {
      "cell_type": "markdown",
      "source": [
        "# <p style=\"background-color: #54080b; color: gold; font-size: 90%; font-family: 'Lobster', cursive; text-align: center; border-radius: 15px 50px; border: 2px solid gold; padding: 20px 30px;\">Dataset Link</p>"
      ],
      "metadata": {
        "id": "SsTctqlsSTPu"
      }
    },
    {
      "cell_type": "markdown",
      "source": [
        "**Dataset link:** https://www.kaggle.com/datasets/aarishasifkhan/plantvillage-potato-disease-dataset/data"
      ],
      "metadata": {
        "id": "UzS9dPT_STPv"
      }
    },
    {
      "cell_type": "markdown",
      "source": [
        "# <p style=\"background-color: #54080b; color: gold; font-size: 90%; font-family: 'Lobster', cursive; text-align: center; border-radius: 15px 50px; border: 2px solid gold; padding: 20px 30px;\">About Author</p>"
      ],
      "metadata": {
        "id": "JOnGMUZeSTPv"
      }
    },
    {
      "cell_type": "markdown",
      "source": [
        "* Hii Kagglers! I'm Maria Nadeem and I am a passionate Data Scientist.\n",
        "* I'm constantly exploring and applying various techniques Data Science techniques pationationatly.\n",
        "* I'm thrilled  to share my notebooks with kaggle community.\n",
        "* I always excited to contribute to the Kaggle community by sharing my detailed analyses and actionable insights through my projects.\n",
        "* In this Notebook, I Firstly took the overview of the dataset in order to take a look how many number of images in each class has and also I display the images of each class in order to take the deep insights about this dataset.\n",
        "* Then  I load and Finetune EfficientNetB3 and evlauate the results and Generate the predictions based on that\n",
        "* Let's grow, collaborate, learn, innovate together!"
      ],
      "metadata": {
        "id": "mDpbZ3O0STPv"
      }
    },
    {
      "cell_type": "markdown",
      "source": [
        "| Name               | Email                                               | LinkedIn                                                  | GitHub                                           | Kaggle                                        |\n",
        "|--------------------|-----------------------------------------------------|-----------------------------------------------------------|--------------------------------------------------|-----------------------------------------------|\n",
        "| **Maria Nadeem**  | marianadeem755@gmail.com | <a href=\"https://www.linkedin.com/in/maria-nadeem-4994122aa/\" style=\"text-decoration: none; font-size: 16px;\"><img src=\"https://img.shields.io/badge/LinkedIn-%2300A4CC.svg?style=for-the-badge&logo=LinkedIn&logoColor=white\" alt=\"LinkedIn Badge\"></a> | <a href=\"https://github.com/marianadeem755\" style=\"text-decoration: none; font-size: 16px;\"><img src=\"https://img.shields.io/badge/GitHub-%23FF6F61.svg?style=for-the-badge&logo=GitHub&logoColor=white\" alt=\"GitHub Badge\"></a> | <a href=\"https://www.kaggle.com/marianadeem755\" style=\"text-decoration: none; font-size: 16px;\"><img src=\"https://img.shields.io/badge/Kaggle-%238a2be2.svg?style=for-the-badge&logo=Kaggle&logoColor=white\" alt=\"Kaggle Badge\"></a> |\n"
      ],
      "metadata": {
        "id": "BM2e6FwlSTPv"
      }
    },
    {
      "cell_type": "markdown",
      "source": [
        "# <p style=\"background-color: #54080b; color: gold; font-size: 90%; font-family: 'Lobster', cursive; text-align: center; border-radius: 15px 50px; border: 2px solid gold; padding: 20px 30px;\">Import Libraries</p>"
      ],
      "metadata": {
        "id": "BKVmpz9KSTPw"
      }
    },
    {
      "cell_type": "code",
      "source": [
        "import pandas as pd\n",
        "import numpy as np\n",
        "import seaborn as sns\n",
        "import matplotlib.pyplot as plt\n",
        "import os\n",
        "import random\n",
        "from PIL import Image\n",
        "import tensorflow as tf\n",
        "from tensorflow.keras.preprocessing.image import ImageDataGenerator\n",
        "from tensorflow.keras.applications import EfficientNetB3\n",
        "from tensorflow.keras.models import Model\n",
        "from tensorflow.keras.layers import Dense, GlobalAveragePooling2D, Dropout\n",
        "from tensorflow.keras.optimizers import Adam\n",
        "from tensorflow.keras.callbacks import EarlyStopping, ModelCheckpoint, ReduceLROnPlateau\n",
        "from sklearn.utils.class_weight import compute_class_weight\n",
        "from tensorflow.keras.models import load_model\n",
        "from tensorflow.keras.preprocessing.image import img_to_array, load_img\n",
        "# ignore warnings\n",
        "import warnings\n",
        "warnings.filterwarnings(\"ignore\")\n"
      ],
      "metadata": {
        "execution": {
          "iopub.status.busy": "2024-06-15T14:54:34.730849Z",
          "iopub.execute_input": "2024-06-15T14:54:34.731762Z",
          "iopub.status.idle": "2024-06-15T14:54:47.49607Z",
          "shell.execute_reply.started": "2024-06-15T14:54:34.731725Z",
          "shell.execute_reply": "2024-06-15T14:54:47.495095Z"
        },
        "trusted": true,
        "id": "BDozRfVnSTPw"
      },
      "execution_count": null,
      "outputs": []
    },
    {
      "cell_type": "markdown",
      "source": [
        "# <p style=\"background-color: #54080b; color: gold; font-size: 90%; font-family: 'Lobster', cursive; text-align: center; border-radius: 15px 50px; border: 2px solid gold; padding: 20px 30px;\">Dataset Overview</p>"
      ],
      "metadata": {
        "id": "_b7z0yJQSTPw"
      }
    },
    {
      "cell_type": "code",
      "source": [
        "# Define the path to the dataset and the class folders\n",
        "dataset_dir = '/kaggle/input/plantvillage-potato-disease-dataset/PlantVillage'\n",
        "class_dirs = ['Potato___Early_blight', 'Potato___Late_blight', 'Potato___healthy']\n",
        "\n",
        "# Print overview information\n",
        "print(\"Dataset Overview:\")\n",
        "print(\"=================\")\n",
        "\n",
        "for class_dir in class_dirs:\n",
        "    class_path = os.path.join(dataset_dir, class_dir)\n",
        "    num_images = len(os.listdir(class_path))\n",
        "    print(f\"Class: {class_dir}, Number of Images: {num_images}\")\n",
        "\n",
        "#     # Optionally print sample image filenames\n",
        "#     print(f\"Sample Images: {os.listdir(class_path)[:5]}\")  # Print first 5 image filenames\n",
        "#     print()\n",
        "\n",
        "# Total number of images in the dataset\n",
        "total_images = sum(len(os.listdir(os.path.join(dataset_dir, class_dir))) for class_dir in class_dirs)\n",
        "print(f\"Total Number of Images in Dataset: {total_images}\")\n"
      ],
      "metadata": {
        "execution": {
          "iopub.status.busy": "2024-06-15T14:54:47.498078Z",
          "iopub.execute_input": "2024-06-15T14:54:47.49925Z",
          "iopub.status.idle": "2024-06-15T14:54:48.259379Z",
          "shell.execute_reply.started": "2024-06-15T14:54:47.499211Z",
          "shell.execute_reply": "2024-06-15T14:54:48.258479Z"
        },
        "trusted": true,
        "id": "1cBPbXy6STPw"
      },
      "execution_count": null,
      "outputs": []
    },
    {
      "cell_type": "markdown",
      "source": [
        "# <p style=\"background-color: #54080b; color: gold; font-size: 90%; font-family: 'Lobster', cursive; text-align: center; border-radius: 15px 50px; border: 2px solid gold; padding: 20px 30px;\">Lets have a Sneakpeak at piechart and Barplot subplot</p>"
      ],
      "metadata": {
        "id": "ESlKIGqYSTPx"
      }
    },
    {
      "cell_type": "code",
      "source": [
        "# Define the path to the dataset and the class folders\n",
        "dataset_dir = '/kaggle/input/plantvillage-potato-disease-dataset/PlantVillage'\n",
        "class_dirs = ['Potato___Early_blight', 'Potato___Late_blight', 'Potato___healthy']\n",
        "class_labels = ['Potato Early Blight', 'Potato Late Blight', 'Potato Healthy']\n",
        "\n",
        "# Calculate number of images in each class\n",
        "class_counts = []\n",
        "for class_dir in class_dirs:\n",
        "    class_path = os.path.join(dataset_dir, class_dir)\n",
        "    num_images = len(os.listdir(class_path))\n",
        "    class_counts.append(num_images)\n",
        "\n",
        "# Calculate percentages for pie chart\n",
        "total_images = sum(class_counts)\n",
        "percentages = [(count / total_images) * 100 for count in class_counts]\n",
        "\n",
        "# Create figure and subplots\n",
        "fig, (ax1, ax2) = plt.subplots(1, 2, figsize=(12, 6))\n",
        "\n",
        "# Pie chart\n",
        "ax1.pie(percentages, labels=class_labels, autopct='%1.1f%%', startangle=140)\n",
        "ax1.set_title('Class Distribution (Pie Chart)')\n",
        "ax1.axis('equal')  # Equal aspect ratio ensures that pie is drawn as a circle.\n",
        "\n",
        "# Stacked bar plot\n",
        "ax2.bar(class_labels, class_counts, color=['blue', 'orange', 'green'])\n",
        "ax2.set_title('Class Distribution (Stacked Bar Plot)')\n",
        "ax2.set_xlabel('Classes')\n",
        "ax2.set_ylabel('Number of Images')\n",
        "\n",
        "# Adjust layout\n",
        "plt.tight_layout()\n",
        "\n",
        "# Show plots\n",
        "plt.show()\n"
      ],
      "metadata": {
        "execution": {
          "iopub.status.busy": "2024-06-15T14:54:48.260384Z",
          "iopub.execute_input": "2024-06-15T14:54:48.260653Z",
          "iopub.status.idle": "2024-06-15T14:54:48.674769Z",
          "shell.execute_reply.started": "2024-06-15T14:54:48.26063Z",
          "shell.execute_reply": "2024-06-15T14:54:48.673857Z"
        },
        "trusted": true,
        "id": "MZ_GnoJhSTPx"
      },
      "execution_count": null,
      "outputs": []
    },
    {
      "cell_type": "markdown",
      "source": [
        "## **Observations:**\n",
        "* As This is the plant village potato disease Dataset It consists of three classses such as Potato Early_blight, Potato Late_blight and the Potato Healthy.\n",
        "* By creating the subplots piechart and barplot it is determined thatPotato Early blight and Potato late blight have the same percentage of images in this dataset i-e: of about 46.5 and the Potato Healthy have very less percentage of images in this dataset i-e: of about 7.1"
      ],
      "metadata": {
        "id": "dVSSUue3STPx"
      }
    },
    {
      "cell_type": "markdown",
      "source": [
        "# <p style=\"background-color: #54080b; color: gold; font-size: 90%; font-family: 'Lobster', cursive; text-align: center; border-radius: 15px 50px; border: 2px solid gold; padding: 20px 30px;\">Lets Display 1st 20 Images of potato Early_blight</p>"
      ],
      "metadata": {
        "id": "bnCUaU-dSTPx"
      }
    },
    {
      "cell_type": "markdown",
      "source": [
        "## **About Code:**\n",
        "* The code is used to load and display the first 20 images of Potato Early blight\n",
        "* To load the images of Potato Early blight firstly the dataset directory is provided.\n",
        "* Then slicing operation is used in order to take fierst 20 images of potato Early blight\n",
        "* Then This loop iterates over the first 20 image filenames using for i, image_file in enumerate(image_files).\n",
        "* It retrieves the first 20 image filenames from the Potato leaf blight directory.\n",
        "* os.path.join is used to constructs the full path to each image file by joining the class directory path with the image filename of class Potato Early blight.\n",
        "* Then a subplot grid of 4 rows and 5 columns is then created.\n"
      ],
      "metadata": {
        "id": "LPPZuhixSTPx"
      }
    },
    {
      "cell_type": "code",
      "source": [
        "# Define the path to the dataset and the class folder\n",
        "dataset_dir = '/kaggle/input/plantvillage-potato-disease-dataset/PlantVillage'\n",
        "class_dir = 'Potato___Early_blight'\n",
        "class_path = os.path.join(dataset_dir, class_dir)\n",
        "\n",
        "# Get the first 20 image filenames\n",
        "image_files = os.listdir(class_path)[:20]\n",
        "\n",
        "# Plot the images\n",
        "plt.figure(figsize=(25, 10))  # Adjusted figsize to accommodate 20 images\n",
        "for i, image_file in enumerate(image_files):\n",
        "    img_path = os.path.join(class_path, image_file)\n",
        "    img = Image.open(img_path)\n",
        "    plt.subplot(4, 5, i + 1)  # Adjusted subplot layout to 4 rows and 5 columns\n",
        "    plt.imshow(img)\n",
        "    plt.title(class_dir)\n",
        "    plt.axis('off')\n",
        "plt.show()\n"
      ],
      "metadata": {
        "execution": {
          "iopub.status.busy": "2024-06-15T14:54:48.67693Z",
          "iopub.execute_input": "2024-06-15T14:54:48.677226Z",
          "iopub.status.idle": "2024-06-15T14:54:50.572551Z",
          "shell.execute_reply.started": "2024-06-15T14:54:48.677201Z",
          "shell.execute_reply": "2024-06-15T14:54:50.571377Z"
        },
        "trusted": true,
        "id": "VgSL-oFBSTPx"
      },
      "execution_count": null,
      "outputs": []
    },
    {
      "cell_type": "markdown",
      "source": [
        "# <p style=\"background-color: #54080b; color: gold; font-size: 90%; font-family: 'Lobster', cursive; text-align: center; border-radius: 15px 50px; border: 2px solid gold; padding: 20px 30px;\">Lets Display 1st 20 Images of potato Late_blight</p>"
      ],
      "metadata": {
        "id": "ihCzMU9tSTPx"
      }
    },
    {
      "cell_type": "markdown",
      "source": [
        "## **About Code:**\n",
        "* The code is used to load and display the first 20 images of Potato Late blight\n",
        "* To load the images of Potato Late blight firstly the dataset directory is provided.\n",
        "* Then slicing operation is used in order to take fierst 20 images of potato Early blight\n",
        "* Then This loop iterates over the first 20 image filenames using for i, image_file in enumerate(image_files).\n",
        "* It retrieves the first 20 image filenames from the Potato leaf blight directory.\n",
        "* os.path.join is used to constructs the full path to each image file by joining the class directory path with the image filename of class Potato Early blight.\n",
        "* Then a subplot grid of 4 rows and 5 columns is then created.\n"
      ],
      "metadata": {
        "id": "agISZ3_BSTPy"
      }
    },
    {
      "cell_type": "code",
      "source": [
        "# Define the path to the dataset and the class folder\n",
        "dataset_dir = '/kaggle/input/plantvillage-potato-disease-dataset/PlantVillage'\n",
        "class_dir = 'Potato___Late_blight'\n",
        "class_path = os.path.join(dataset_dir, class_dir)\n",
        "\n",
        "# Get the first 20 image filenames\n",
        "image_files = os.listdir(class_path)[:20]\n",
        "\n",
        "# Plot the images\n",
        "plt.figure(figsize=(25, 10))  # Adjusted figsize to accommodate 20 images\n",
        "for i, image_file in enumerate(image_files):\n",
        "    img_path = os.path.join(class_path, image_file)\n",
        "    img = Image.open(img_path)\n",
        "    plt.subplot(4, 5, i + 1)  # Adjusted subplot layout to 4 rows and 5 columns\n",
        "    plt.imshow(img)\n",
        "    plt.title(class_dir)\n",
        "    plt.axis('off')\n",
        "plt.show()\n"
      ],
      "metadata": {
        "execution": {
          "iopub.status.busy": "2024-06-15T14:54:50.573577Z",
          "iopub.execute_input": "2024-06-15T14:54:50.573846Z",
          "iopub.status.idle": "2024-06-15T14:54:52.7003Z",
          "shell.execute_reply.started": "2024-06-15T14:54:50.573823Z",
          "shell.execute_reply": "2024-06-15T14:54:52.699169Z"
        },
        "trusted": true,
        "id": "41y1-mo1STPy"
      },
      "execution_count": null,
      "outputs": []
    },
    {
      "cell_type": "markdown",
      "source": [
        "# <p style=\"background-color: #54080b; color: gold; font-size: 90%; font-family: 'Lobster', cursive; text-align: center; border-radius: 15px 50px; border: 2px solid gold; padding: 20px 30px;\">Lets Display 1st 20 Images of potato healthy</p>"
      ],
      "metadata": {
        "id": "nvVDzUqmSTPy"
      }
    },
    {
      "cell_type": "markdown",
      "source": [
        "## **About Code:**\n",
        "* The code is used to load and display the first 20 images of Potato Healthy\n",
        "* To load the images of Potato Healthy firstly the dataset directory is provided.\n",
        "* Then slicing operation is used in order to take fierst 20 images of potato Early blight\n",
        "* Then This loop iterates over the first 20 image filenames using for i, image_file in enumerate(image_files).\n",
        "* It retrieves the first 20 image filenames from the Potato leaf blight directory.\n",
        "* os.path.join is used to constructs the full path to each image file by joining the class directory path with the image filename of class Potato Early blight.\n",
        "* Then a subplot grid of 4 rows and 5 columns is then created.\n"
      ],
      "metadata": {
        "id": "COg0EfwMSTPy"
      }
    },
    {
      "cell_type": "code",
      "source": [
        "# Define the path to the dataset and the class folder\n",
        "dataset_dir = '/kaggle/input/plantvillage-potato-disease-dataset/PlantVillage'\n",
        "class_dir = 'Potato___healthy'\n",
        "class_path = os.path.join(dataset_dir, class_dir)\n",
        "\n",
        "# Get the first 20 image filenames\n",
        "image_files = os.listdir(class_path)[:20]\n",
        "\n",
        "# Plot the images\n",
        "plt.figure(figsize=(25, 10))  # Adjusted figsize to accommodate 20 images\n",
        "for i, image_file in enumerate(image_files):\n",
        "    img_path = os.path.join(class_path, image_file)\n",
        "    img = Image.open(img_path)\n",
        "    plt.subplot(4, 5, i + 1)  # Adjusted subplot layout to 4 rows and 5 columns\n",
        "    plt.imshow(img)\n",
        "    plt.title(class_dir)\n",
        "    plt.axis('off')\n",
        "plt.show()\n"
      ],
      "metadata": {
        "execution": {
          "iopub.status.busy": "2024-06-15T14:54:52.701618Z",
          "iopub.execute_input": "2024-06-15T14:54:52.702033Z",
          "iopub.status.idle": "2024-06-15T14:54:54.562515Z",
          "shell.execute_reply.started": "2024-06-15T14:54:52.701995Z",
          "shell.execute_reply": "2024-06-15T14:54:54.561635Z"
        },
        "trusted": true,
        "id": "aZby5rogSTPy"
      },
      "execution_count": null,
      "outputs": []
    },
    {
      "cell_type": "markdown",
      "source": [
        "# <p style=\"background-color: #54080b; color: gold; font-size: 90%; font-family: 'Lobster', cursive; text-align: center; border-radius: 15px 50px; border: 2px solid gold; padding: 20px 30px;line-height: 1.5;\">Lets have a look at Images of Potato Early_blight,Potato Late_blight, Potato Healthy</p>"
      ],
      "metadata": {
        "id": "HIWPZy-hSTPy"
      }
    },
    {
      "cell_type": "markdown",
      "source": [
        "* This code is used to select and display a random subset of images from a dataset of potato plant images, categorized into different disease such as Potato Early_blight,Potato Late_blight, Potato Healthy.\n",
        "* The`dataset_dir` is then used to give the main directory dataset path\n",
        "* The `classes`  represents the each class folder contains images of potato plants affected by a specific disease or in a healthy condition.\n",
        "* The `random.sample(all_image_paths, 30) randomly selects 30 unique image paths from all_image_paths"
      ],
      "metadata": {
        "id": "sCxWXivUSTPy"
      }
    },
    {
      "cell_type": "code",
      "source": [
        "# Define the path to the dataset and the class folders\n",
        "dataset_dir = '/kaggle/input/plantvillage-potato-disease-dataset/PlantVillage'\n",
        "classes = ['Potato___Early_blight', 'Potato___Late_blight', 'Potato___healthy']\n",
        "\n",
        "# Collect image paths from all folders\n",
        "all_image_paths = []\n",
        "for class_dir in classes:\n",
        "    class_path = os.path.join(dataset_dir, class_dir)\n",
        "    image_files = os.listdir(class_path)\n",
        "    for image_file in image_files:\n",
        "        all_image_paths.append(os.path.join(class_path, image_file))\n",
        "\n",
        "# Randomly select 30 image paths\n",
        "random_image_paths = random.sample(all_image_paths, 30)\n",
        "\n",
        "# Plot the images\n",
        "plt.figure(figsize=(20, 15))\n",
        "for i, img_path in enumerate(random_image_paths):\n",
        "    img = Image.open(img_path)\n",
        "    plt.subplot(6, 5, i + 1)  # 6 rows and 5 columns\n",
        "    plt.imshow(img)\n",
        "    class_name = os.path.basename(os.path.dirname(img_path))\n",
        "    plt.title(class_name)\n",
        "    plt.axis('off')\n",
        "plt.show()\n"
      ],
      "metadata": {
        "execution": {
          "iopub.status.busy": "2024-06-15T14:54:54.563888Z",
          "iopub.execute_input": "2024-06-15T14:54:54.56426Z",
          "iopub.status.idle": "2024-06-15T14:54:57.384838Z",
          "shell.execute_reply.started": "2024-06-15T14:54:54.564229Z",
          "shell.execute_reply": "2024-06-15T14:54:57.383337Z"
        },
        "trusted": true,
        "id": "6yjq5zLUSTPz"
      },
      "execution_count": null,
      "outputs": []
    },
    {
      "cell_type": "markdown",
      "source": [
        "# <p style=\"background-color: #54080b; color: gold; font-size: 90%; font-family: 'Lobster', cursive; text-align: center; border-radius: 15px 50px; border: 2px solid gold; padding: 20px 30px;\">Data Preparation and Augmentation Setup</p>"
      ],
      "metadata": {
        "id": "QK5fW6_bSTPz"
      }
    },
    {
      "cell_type": "code",
      "source": [
        "# Define the paths\n",
        "base_dir = '/kaggle/input/plantvillage-potato-disease-dataset/PlantVillage'\n",
        "\n",
        "# Initialize ImageDataGenerator for training and validation sets\n",
        "train_datagen = ImageDataGenerator(\n",
        "    preprocessing_function=tf.keras.applications.efficientnet.preprocess_input,\n",
        "    validation_split=0.2,  # Split 20% for validation\n",
        "    horizontal_flip=True,\n",
        "    zoom_range=0.3,\n",
        "    shear_range=0.3,\n",
        "    rotation_range=40,\n",
        "    width_shift_range=0.3,\n",
        "    height_shift_range=0.3,\n",
        "    fill_mode='nearest'\n",
        ")\n",
        "\n",
        "val_datagen = ImageDataGenerator(\n",
        "    preprocessing_function=tf.keras.applications.efficientnet.preprocess_input,\n",
        "    validation_split=0.2\n",
        ")"
      ],
      "metadata": {
        "execution": {
          "iopub.status.busy": "2024-06-15T14:54:57.460958Z",
          "iopub.execute_input": "2024-06-15T14:54:57.46125Z",
          "iopub.status.idle": "2024-06-15T14:54:57.470499Z",
          "shell.execute_reply.started": "2024-06-15T14:54:57.461227Z",
          "shell.execute_reply": "2024-06-15T14:54:57.469647Z"
        },
        "trusted": true,
        "id": "uQ3v4bt5STPz"
      },
      "execution_count": null,
      "outputs": []
    },
    {
      "cell_type": "markdown",
      "source": [
        "# <p style=\"background-color: #54080b; color: gold; font-size: 90%; font-family: 'Lobster', cursive; text-align: center; border-radius: 15px 50px; border: 2px solid gold; padding: 20px 30px;\">Lets Load the Training and Validation Data</p>"
      ],
      "metadata": {
        "id": "AMdPf9GgSTPz"
      }
    },
    {
      "cell_type": "code",
      "source": [
        "# Load the training set\n",
        "train_generator = train_datagen.flow_from_directory(\n",
        "    base_dir,\n",
        "    target_size=(300, 300),  # Adjusted target size for EfficientNetB3\n",
        "    batch_size=16,\n",
        "    class_mode='categorical',\n",
        "    subset='training'\n",
        ")\n",
        "\n",
        "# Load the validation set\n",
        "validation_generator = val_datagen.flow_from_directory(\n",
        "    base_dir,\n",
        "    target_size=(300, 300),  # Adjusted target size for EfficientNetB3\n",
        "    batch_size=16,\n",
        "    class_mode='categorical',\n",
        "    subset='validation'\n",
        ")\n"
      ],
      "metadata": {
        "execution": {
          "iopub.status.busy": "2024-06-15T14:54:57.471824Z",
          "iopub.execute_input": "2024-06-15T14:54:57.47216Z",
          "iopub.status.idle": "2024-06-15T14:55:00.048947Z",
          "shell.execute_reply.started": "2024-06-15T14:54:57.472125Z",
          "shell.execute_reply": "2024-06-15T14:55:00.048253Z"
        },
        "trusted": true,
        "id": "xT1C_OmJSTPz"
      },
      "execution_count": null,
      "outputs": []
    },
    {
      "cell_type": "markdown",
      "source": [
        "# <p style=\"background-color: #54080b; color: gold; font-size: 90%; font-family: 'Lobster', cursive; text-align: center; border-radius: 15px 50px; border: 2px solid gold; padding: 20px 30px;\">Lets Load and Finetune EfficientNetB3</p>"
      ],
      "metadata": {
        "id": "TMcA6YFzSTPz"
      }
    },
    {
      "cell_type": "code",
      "source": [
        "\n",
        "# Get class indices from the training generator\n",
        "class_indices = train_generator.class_indices\n",
        "class_labels = list(class_indices.keys())\n",
        "\n",
        "# Calculate class weights\n",
        "class_weights = compute_class_weight(\n",
        "    class_weight='balanced',\n",
        "    classes=np.unique(train_generator.classes),\n",
        "    y=train_generator.classes\n",
        ")\n",
        "\n",
        "class_weights_dict = dict(enumerate(class_weights))\n",
        "print(\"Class weights:\", class_weights_dict)\n",
        "\n",
        "# Load the EfficientNetB3 model pre-trained on ImageNet\n",
        "base_model = EfficientNetB3(weights='imagenet', include_top=False, input_shape=(300, 300, 3))\n",
        "\n",
        "# Add custom layers on top of EfficientNetB3\n",
        "x = base_model.output\n",
        "x = GlobalAveragePooling2D()(x)\n",
        "x = Dropout(0.5)(x)\n",
        "x = Dense(1024, activation='relu')(x)\n",
        "x = Dropout(0.5)(x)\n",
        "predictions = Dense(3, activation='softmax')(x)  # Assuming 3 classes: Early_blight, Late_blight, healthy\n",
        "\n",
        "# Define the complete model\n",
        "model = Model(inputs=base_model.input, outputs=predictions)\n",
        "\n",
        "# Freeze all layers of the base model\n",
        "for layer in base_model.layers:\n",
        "    layer.trainable = False\n",
        "\n",
        "# Compile the model\n",
        "model.compile(optimizer=Adam(learning_rate=0.0001), loss='categorical_crossentropy', metrics=['accuracy'])\n",
        "\n",
        "# Set up early stopping, model checkpoint, and learning rate reduction\n",
        "early_stopping = EarlyStopping(monitor='val_loss', patience=5, restore_best_weights=True)\n",
        "checkpoint = ModelCheckpoint('best_model.keras', monitor='val_loss', save_best_only=True, save_weights_only=False)\n",
        "reduce_lr = ReduceLROnPlateau(monitor='val_loss', factor=0.2, patience=15, min_lr=1e-6)\n",
        "# Train the model with class weights and early stopping\n",
        "history = model.fit(\n",
        "    train_generator,\n",
        "    steps_per_epoch=train_generator.samples // train_generator.batch_size,\n",
        "    validation_data=validation_generator,\n",
        "    validation_steps=validation_generator.samples // validation_generator.batch_size,\n",
        "    epochs=50,\n",
        "    class_weight=class_weights_dict,\n",
        "    callbacks=[early_stopping, checkpoint, reduce_lr]\n",
        ")\n",
        "\n"
      ],
      "metadata": {
        "execution": {
          "iopub.status.busy": "2024-06-15T14:55:00.050353Z",
          "iopub.execute_input": "2024-06-15T14:55:00.050918Z",
          "iopub.status.idle": "2024-06-15T15:02:39.000013Z",
          "shell.execute_reply.started": "2024-06-15T14:55:00.050884Z",
          "shell.execute_reply": "2024-06-15T15:02:38.99898Z"
        },
        "trusted": true,
        "id": "0Slw9DWbSTPz"
      },
      "execution_count": null,
      "outputs": []
    },
    {
      "cell_type": "markdown",
      "source": [
        "# <p style=\"background-color: #54080b; color: gold; font-size: 90%; font-family: 'Lobster', cursive; text-align: center; border-radius: 15px 50px; border: 2px solid gold; padding: 20px 30px;\">Evaluation on Validation Data</p>"
      ],
      "metadata": {
        "id": "EtMGjJmFSTQG"
      }
    },
    {
      "cell_type": "code",
      "source": [
        "# Evaluate the model\n",
        "loss, accuracy = model.evaluate(validation_generator)\n",
        "print(f'Validation loss: {loss}')\n",
        "print(f'Validation accuracy: {accuracy}')"
      ],
      "metadata": {
        "execution": {
          "iopub.status.busy": "2024-06-15T15:02:39.001368Z",
          "iopub.execute_input": "2024-06-15T15:02:39.001655Z",
          "iopub.status.idle": "2024-06-15T15:02:40.47786Z",
          "shell.execute_reply.started": "2024-06-15T15:02:39.00163Z",
          "shell.execute_reply": "2024-06-15T15:02:40.476974Z"
        },
        "trusted": true,
        "id": "36Luccm7STQG"
      },
      "execution_count": null,
      "outputs": []
    },
    {
      "cell_type": "markdown",
      "source": [
        "# <p style=\"background-color: #54080b; color: gold; font-size: 90%; font-family: 'Lobster', cursive; text-align: center; border-radius: 15px 50px; border: 2px solid gold; padding: 20px 30px;\">Lets plot the Training and Validation Accuracy and Loss</p>"
      ],
      "metadata": {
        "id": "PCfFm2XFSTQG"
      }
    },
    {
      "cell_type": "code",
      "source": [
        "# Plot training and validation loss\n",
        "plt.figure(figsize=(12, 6))\n",
        "plt.subplot(1, 2, 1)\n",
        "plt.plot(history.history['loss'], label='Training Loss')\n",
        "plt.plot(history.history['val_loss'], label='Validation Loss')\n",
        "plt.xlabel('Epoch')\n",
        "plt.ylabel('Loss')\n",
        "plt.title('Training and Validation Loss')\n",
        "plt.legend()\n",
        "\n",
        "# Plot training and validation accuracy\n",
        "plt.subplot(1, 2, 2)\n",
        "plt.plot(history.history['accuracy'], label='Training Accuracy')\n",
        "plt.plot(history.history['val_accuracy'], label='Validation Accuracy')\n",
        "plt.xlabel('Epoch')\n",
        "plt.ylabel('Accuracy')\n",
        "plt.title('Training and Validation Accuracy')\n",
        "plt.legend()\n",
        "\n",
        "plt.tight_layout()\n",
        "plt.show()\n"
      ],
      "metadata": {
        "execution": {
          "iopub.status.busy": "2024-06-15T15:02:40.479042Z",
          "iopub.execute_input": "2024-06-15T15:02:40.479359Z",
          "iopub.status.idle": "2024-06-15T15:02:41.162822Z",
          "shell.execute_reply.started": "2024-06-15T15:02:40.479331Z",
          "shell.execute_reply": "2024-06-15T15:02:41.161846Z"
        },
        "trusted": true,
        "id": "O9ur77TNSTQG"
      },
      "execution_count": null,
      "outputs": []
    },
    {
      "cell_type": "markdown",
      "source": [
        "# <p style=\"background-color: #54080b; color: gold; font-size: 90%; font-family: 'Lobster', cursive; text-align: center; border-radius: 15px 50px; border: 2px solid gold; padding: 20px 30px;\">Lets Load the Saved Model</p>"
      ],
      "metadata": {
        "id": "RtgPTK_tSTQG"
      }
    },
    {
      "cell_type": "code",
      "source": [
        "# Load the best saved model\n",
        "model = load_model('best_model.keras')\n"
      ],
      "metadata": {
        "execution": {
          "iopub.status.busy": "2024-06-15T15:02:41.164173Z",
          "iopub.execute_input": "2024-06-15T15:02:41.164543Z",
          "iopub.status.idle": "2024-06-15T15:02:46.866853Z",
          "shell.execute_reply.started": "2024-06-15T15:02:41.164508Z",
          "shell.execute_reply": "2024-06-15T15:02:46.866062Z"
        },
        "trusted": true,
        "id": "ekUOU0mZSTQH"
      },
      "execution_count": null,
      "outputs": []
    },
    {
      "cell_type": "markdown",
      "source": [
        "# <p style=\"background-color: #54080b; color: gold; font-size: 90%; font-family: 'Lobster', cursive; text-align: center; border-radius: 15px 50px; border: 2px solid gold; padding: 20px 30px;\">Function to Load and Preprocess an Images</p>"
      ],
      "metadata": {
        "id": "SZ_C08EGSTQH"
      }
    },
    {
      "cell_type": "code",
      "source": [
        "def load_and_preprocess_image(img_path, target_size=(300, 300)):\n",
        "    # Load the image\n",
        "    img = load_img(img_path, target_size=target_size)\n",
        "    # Convert the image to array\n",
        "    img_array = img_to_array(img)\n",
        "    # Expand dimensions to match the shape of model input\n",
        "    img_array = np.expand_dims(img_array, axis=0)\n",
        "    # Preprocess the image using the same function used in training\n",
        "    img_array = tf.keras.applications.efficientnet.preprocess_input(img_array)\n",
        "    return img_array\n"
      ],
      "metadata": {
        "execution": {
          "iopub.status.busy": "2024-06-15T15:02:46.868061Z",
          "iopub.execute_input": "2024-06-15T15:02:46.868363Z",
          "iopub.status.idle": "2024-06-15T15:02:46.873884Z",
          "shell.execute_reply.started": "2024-06-15T15:02:46.868339Z",
          "shell.execute_reply": "2024-06-15T15:02:46.872942Z"
        },
        "trusted": true,
        "id": "e2zXTyFeSTQH"
      },
      "execution_count": null,
      "outputs": []
    },
    {
      "cell_type": "markdown",
      "source": [
        "# <p style=\"background-color: #54080b; color: gold; font-size: 90%; font-family: 'Lobster', cursive; text-align: center; border-radius: 15px 50px; border: 2px solid gold; padding: 20px 30px;\">Generating Predictions for Potato Disease Images</p>"
      ],
      "metadata": {
        "id": "8ADuYlMhSTQH"
      }
    },
    {
      "cell_type": "code",
      "source": [
        "# Define the path to the dataset and the class folders\n",
        "base_dir = '/kaggle/input/plantvillage-potato-disease-dataset/PlantVillage'\n",
        "classes = ['Potato___Early_blight', 'Potato___Late_blight', 'Potato___healthy']\n",
        "\n",
        "# Collect some image paths from all folders\n",
        "image_paths = []\n",
        "for class_dir in classes:\n",
        "    class_path = os.path.join(base_dir, class_dir)\n",
        "    image_files = os.listdir(class_path)[:10]  # Change this to any number of images you want\n",
        "    for image_file in image_files:\n",
        "        image_paths.append(os.path.join(class_path, image_file))\n",
        "        # Predict and display images with predicted labels\n",
        "plt.figure(figsize=(20, 20))\n",
        "for i, img_path in enumerate(image_paths):\n",
        "    img_array = load_and_preprocess_image(img_path)\n",
        "    prediction = model.predict(img_array)\n",
        "    predicted_class = class_labels[np.argmax(prediction)]\n",
        "\n",
        "    # Load the original image for display\n",
        "    img = load_img(img_path, target_size=(300, 300))\n",
        "\n",
        "    plt.subplot(6, 5, i + 1)\n",
        "    plt.imshow(img)\n",
        "    plt.title(predicted_class)\n",
        "    plt.axis('off')\n",
        "\n",
        "plt.show()\n"
      ],
      "metadata": {
        "execution": {
          "iopub.status.busy": "2024-06-15T15:02:46.87548Z",
          "iopub.execute_input": "2024-06-15T15:02:46.875769Z",
          "iopub.status.idle": "2024-06-15T15:03:02.723645Z",
          "shell.execute_reply.started": "2024-06-15T15:02:46.875742Z",
          "shell.execute_reply": "2024-06-15T15:03:02.722183Z"
        },
        "trusted": true,
        "id": "M9W9sCgcSTQH"
      },
      "execution_count": null,
      "outputs": []
    },
    {
      "cell_type": "markdown",
      "source": [
        "# <p style=\"background-color: #54080b; color: gold; font-size: 90%; font-family: 'Lobster', cursive; text-align: center; border-radius: 15px 50px; border: 2px solid gold; padding: 20px 30px;\">Conclusion</p>"
      ],
      "metadata": {
        "id": "_MdV97KdSTQH"
      }
    },
    {
      "cell_type": "markdown",
      "source": [
        "* This is the plant village potato disease Dataset\n",
        "* This Dataset is a comprehensive collection of images which is categorized into three distinct\n",
        "* There are Total 2152 number of Images in Dataset\n",
        "* The plant village contains 3 folders such as of Class Potato Early_blight, Potato Late_blight and Potato healthy\n",
        "* The Class Potato Early_blight consists of 1000 number of Images\n",
        "* The Class Potato Late_blight also consists of 1000 number of Images\n",
        "* The Potato Healthy consists of 152 number of Images\n",
        "* The Aim to take this Dataset is to explore the plant diseases which belongs to the classes such as the Potato late_blight, Potato Early_blight and also the healthy poato plants\n",
        "* For this I firstly took the overview of the dataset in order to take a look how many number of images in each class has according to this dataset.\n",
        "* Then I display the images of each class in order to take the insights about the dataset.\n",
        "* 1722 images belonging to 3 classes are found in training dataset.\n",
        "* 430 images belonging to 3 classes are found in validation dataset.\n",
        "* Then I load and Finetune EfficientNetB3 and evlauate the results\n",
        "* Then I Generate the predictions based on that model"
      ],
      "metadata": {
        "id": "obahzdzFSTQH"
      }
    },
    {
      "cell_type": "markdown",
      "source": [
        "# <p style=\"background-color: #54080b; color: gold; font-size: 90%; font-family: 'Lobster', cursive; text-align: center; border-radius: 15px 50px; border: 2px solid gold; display: inline-block; padding: 20px 30px; margin: 0 auto; line-height: 1.5;\">Thanks for taking the time to explore my Notebook.If you have any Question then Feel Free to ask</p>\n"
      ],
      "metadata": {
        "id": "VzK8i305STQH"
      }
    }
  ]
}